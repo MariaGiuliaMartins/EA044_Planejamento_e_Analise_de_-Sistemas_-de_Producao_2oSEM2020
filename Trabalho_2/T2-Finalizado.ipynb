{
 "cells": [
  {
   "cell_type": "markdown",
   "metadata": {
    "id": "UJS_gPFQbv8Y"
   },
   "source": [
    "# EA044 - T2: Planejamento Multiperíodo de Produção\n"
   ]
  },
  {
   "cell_type": "markdown",
   "metadata": {
    "id": "z-sHSBeEcf_j"
   },
   "source": [
    "# Análise do Problema\n",
    "Antes de respondermos às perguntas solicitadas, vamos modelar o nosso problema, analisando-o conforme as Etapas da Modelagem a seguir:"
   ]
  },
  {
   "cell_type": "markdown",
   "metadata": {
    "id": "kxyma4PJcqsY"
   },
   "source": [
    "# Etapas da Modelagem"
   ]
  },
  {
   "cell_type": "markdown",
   "metadata": {
    "id": "4cxNP19Tct8V"
   },
   "source": [
    "## Formular o Problema\n",
    "\n",
    "Trata-se de um problema de planejamento de produção para um horizonte de tempo. \n",
    "\n",
    "Como objetivo, devemos gerar um plano de produção, analisar os resultados, alternativas e fatores que impactam a produção.\n",
    "\n",
    "### Situação e Problema de Decisão\n",
    "Previsão de demanda esperada para os meses de Junho, Julho e Agosto da Pneu Industrial\n",
    "\n",
    "        Data   |  Nylon |  Fibra\n",
    "    -----------|--------|--------\n",
    "     30 Junho  |  4000  |  1000\n",
    "     31 Julho  |  8000  |  5000\n",
    "     31 Agosto |  3000  |  5000\n",
    "    -----------|--------|--------\n",
    "       Total   | 15000  | 11000\n",
    "\n",
    "Horas de produção prevista das prensas Wheel e Legal para os mesmos três meses\n",
    "\n",
    "      Mês   | Wheel |  Legal\n",
    "    --------|-------|--------\n",
    "     Junho  |  700  |  1500\n",
    "     Julho  |  300  |   400\n",
    "     Agosto | 1000  |   300\n",
    "\n",
    "Taxa de produção (horas/pneu)\n",
    "\n",
    "                    Prensa\n",
    "              ------------------\n",
    "              |  Wheel |  Legal\n",
    "     ---------|--------|--------\n",
    "      Nylon   |  0,15  |  0,16\n",
    "      Fibra   |  0,12  |  0,14"
   ]
  },
  {
   "cell_type": "markdown",
   "metadata": {
    "id": "JJA8VFlRcwqf"
   },
   "source": [
    "## Observar o Sistema\n",
    "Neste problema são apresentadas as seguintes equações que o modelam:\n",
    "\n",
    "### Custo variável de produção\n",
    "Independentemente da prensa temos:\n",
    "$$ custo_v(hora) = 5 * hora $$\n",
    "\n",
    "### Custo mensal para estocagem de pneus\n",
    "$$ custo_m(pneu) = 0.10 * pneu$$\n",
    "\n",
    "### Custo para a produção de um peneu de nylon\n",
    "$$ custo_n(pneu) = 3.10 * pneu$$\n",
    "\n",
    "### Custo para a produção de um pneu de fibra\n",
    "$$ custo_f(pneu) = 3.90 * pneu$$\n",
    "\n",
    "### Custos extras (acabamento, embalagem e transporte)\n",
    "$$ custo_e(pneu) = 0.23 * pneu$$\n",
    "\n",
    "### Preço de um pneu de Nylon no mercado\n",
    "$$ preço_n(pneu) = 7 * pneu$$\n",
    "\n",
    "### Preço de um pneu de Fibra no mercado\n",
    "$$ preço_f(pneu) = 9 * pneu$$"
   ]
  },
  {
   "cell_type": "markdown",
   "metadata": {
    "id": "r9fziRy2c0Z3"
   },
   "source": [
    "## Formular o Modelo Matemático\n",
    "\n",
    "### Variáveis do nosso problema\n",
    "Para este problema teremos as seguintes variáveis que o modelarão:\n",
    "\n",
    "*   $Q_{N,W,i}$: Quantidade de pneus de Nylon produzidos na prensa Wheel no i-ésimo mês\n",
    "*   $Q_{N,L,i}$: Quantidade de pneus de Nylon produzidos na prensa Legal no i-ésimo mês\n",
    "*   $Q_{F,W,i}$: Quantidade de pneus de Fibra produzidos na prensa Wheel no i-ésimo mês\n",
    "*   $Q_{F,L,i}$: Quantidade de pneus de Fibra produzidos na prensa Legal no i-ésimo mês\n",
    "*   $H_{W,i}$: Horas da prensa Wheel no i-ésimo mês\n",
    "*   $H_{L,i}$: Horas da prensa Legal no i-ésimo mês\n",
    "*   $E_{N,i}$: Quantidade estocada de pneus de nylon no i-ésimo mês\n",
    "*   $E_{F,i}$: Quantidade estocada de pneus de fibra no i-ésimo mês\n",
    "*   $D_{i,F}$: Demanda no i-ésimo mês de pneus de fibra\n",
    "*   $D_{i,N}$: Demanda no i-ésimo mês de pneus de nylon\n",
    "\n",
    "\n",
    "### Equações que relacionam essas variáveis ao longo dos meses\n",
    "Essas variáveis se relacionam da seguinte forma nas equações abaixo:\n",
    "*   O custo mensal de estocagem deve ser apenas para os primeiros dois meses, pois em Agosto temos a restrição de que não se deve ter estoque: $\\sum_{i=1}^{2} 0.10(E_{N,i}+E_{N,i})$\n",
    "\n",
    "*   Quantidade total de pneus produzidas no i-ésimo mês está diretamente relacionado com a taxa de produção de cada um deles por uma prensa: $\\sum_{i=1}^{3} 5 (0.15 Q_{N,W,i} + 0.12 Q_{F,W,i} + 0.16 Q_{N,L,i} + 0.14 Q_{F,L,i})$\n",
    "\n",
    "*    Custo da produção de pneu de Nylon é aplicado na demanda: $\\sum_{i=1}^{3} 3.10 D_{N,i}$\n",
    "\n",
    "*    Custo da produção de pneu de Fibra é aplicado na demanda: $\\sum_{i=1}^{3} 3.90 D_{F,i}$\n",
    "\n",
    "*    O custo do acabamento dos pneus também são aplicados nas demandas: $\\sum_{i=1}^{3} 0.23(D_{N,i} + D_{F,i})$\n",
    "\n",
    "*    O lucro dos pneus de Nylon é dado em cima da demanda: $\\sum_{i=1}^{3} 7 D_{N,i}$\n",
    "\n",
    "*    O lucro dos pneus de Fibra também é dado em cima de sua demanda: $\\sum_{i=1}^{3} 9 D_{F,i}$\n",
    "\n",
    "*    A quantidade produzida e os estoques não pode ultrapassar a demanda final:\n",
    "\n",
    "$\\qquad \\Rightarrow$ Nylon:\n",
    "\n",
    "$\\qquad \\sum_{i=1}^{3} (Q_{N,W,i} + Q_{N,L,i}) - \\sum_{i=1}^{2} E_{N,i} + \\sum_{i=2}^{3} E_{N, i-1} \\ge \\sum_{i=1}^{3} D_{N,i}$\n",
    "\n",
    "$\\qquad \\Rightarrow$ Fibra:\n",
    "\n",
    "$\\qquad \\sum_{i=1}^{3} (Q_{F,W,i} + Q_{F,L,i}) - \\sum_{i=1}^{2} E_{F,i} + \\sum_{i=2}^{3} E_{F, i-1} \\ge \\sum_{i=1}^{3} D_{F,i}$\n",
    "\n",
    "*    As horas que a prensa Wheel trabalha é um limitante para a quantidade produzida de pneu, seja ele de Nylon ou de Fibra: $\\sum_{i=1}^{3} 0.15 Q_{N,W,i} + \\sum_{i=1}^{3} 0.12 Q_{F,W,i} \\le \\sum_{i=1}^{3} H_{W,i}$\n",
    "\n",
    "*    As horas que a prensa Legal trabalha é um limitante para a quantidade produzida de pneu, seja ele de Nylon ou de Fibra: $\\sum_{i=1}^{3} 0.16 Q_{N,W,i} + \\sum_{i=1}^{3} 0.14 Q_{F,W,i} \\le \\sum_{i=1}^{3} H_{L,i}$\n",
    "\n",
    "*    Temos também que limitar nosso problema ao fato de que devemos ter uma produção positiva de pneus: \n",
    "\n",
    "$\\qquad \\sum_{i=1}^{3} Q_{N,W,i} > 0 $\n",
    "\n",
    "$\\qquad \\sum_{i=1}^{3} Q_{F,W,i} > 0$\n",
    "\n",
    "$\\qquad \\sum_{i=1}^{3} Q_{N,L,i} > 0$\n",
    "\n",
    "$\\qquad \\sum_{i=1}^{3} Q_{F,L,i} > 0$\n",
    "\n",
    "*    Assim como a quantidade produzida deve ser positiva, nosso estoque também deve ser: \n",
    "\n",
    "$\\qquad \\sum_{i=1}^{2} E_{N,i} > 0$\n",
    "\n",
    "$\\qquad \\sum_{i=1}^{2} E_{F,i} > 0$\n",
    "\n",
    "### Função Objetivo e Restrições\n",
    "\n",
    "A função que temos então que relaciona esas variáveis é dada por $f(E, Q)$, onde $E$ é o estoque e $Q$ é a quantidade de pneus. Como queremos minimizar o custo e maximizar o lucro temos a seguinte função objetivo:\n",
    "\n",
    "min:\n",
    "\n",
    "\n",
    "> $f(E,Q) = \\sum_{i=1}^{3} (0.15 Q_{N,W,i} + 0.12 Q_{F,W,i} + 0.16 Q_{N,L,i} + 0.14 Q_{F,L,i}) + \\sum_{i=1}^{3} 5 (0.15 Q_{N,W,i} + 0.12 Q_{F,W,i} + 0.16 Q_{N,L,i} + 0.14 Q_{F,L,i}) + \\sum_{i=1}^{3} 3.10 D_{N,i} + \\sum_{i=1}^{3} 3.90 D_{F,i} + \\sum_{i=1}^{3} 0.23(D_{N,i} + D_{F,i}) + \\sum_{i=1}^{3} 7 D_{N,i} + \\sum_{i=1}^{3} 9 D_{F,i}$\n",
    "\n",
    "s.a. : \n",
    "\n",
    "> $Restrição_{1, Nylon} : \\sum_{i=1}^{3} (Q_{N,W,i} + Q_{N,L,i}) - \\sum_{i=1}^{2} E_{N,i} + \\sum_{i=2}^{3} E_{N, i-1} \\ge \\sum_{i=1}^{3} D_{N,i}$\n",
    "\n",
    "> $Restrição_{1, Fibra} : \\sum_{i=1}^{3} (Q_{F,W,i} + Q_{F,L,i}) - \\sum_{i=1}^{2} E_{F,i} + \\sum_{i=2}^{3} E_{F, i-1} \\ge \\sum_{i=1}^{3} D_{F,i}$\n",
    "\n",
    "> $Restrição_2 : \\sum_{i=1}^{3} 0.15 Q_{N,W,i} + \\sum_{i=1}^{3} 0.12 Q_{F,W,i} \\le \\sum_{i=1}^{3} H_{W,i}$\n",
    "\n",
    "> $Restrição_3 : \\sum_{i=1}^{3} 0.16 Q_{N,L,i} + \\sum_{i=1}^{3} 0.14 Q_{F,L,i} \\le \\sum_{i=1}^{3} H_{L,i}$\n",
    "\n",
    "> $Restrição_4 : $\n",
    "\n",
    "$\\qquad \\sum_{i=1}^{3} Q_{N,W,i} > 0 $\n",
    "\n",
    "$\\qquad \\sum_{i=1}^{3} Q_{F,W,i} > 0$\n",
    "\n",
    "$\\qquad \\sum_{i=1}^{3} Q_{N,L,i} > 0$\n",
    "\n",
    "$\\qquad \\sum_{i=1}^{3} Q_{F,L,i} > 0$\n",
    "\n",
    "> $Restrição_5 : $\n",
    "\n",
    "$\\qquad \\sum_{i=1}^{2} E_{N,i} > 0$\n",
    "\n",
    "$\\qquad \\sum_{i=1}^{2} E_{F,i} > 0$\n",
    "\n",
    "\n",
    "\n",
    "\n"
   ]
  },
  {
   "cell_type": "markdown",
   "metadata": {
    "id": "Nre6m_kwc7Xk"
   },
   "source": [
    "## Solucionar o Problema (Atividade 5 do Roteiro)\n",
    "\n",
    "Para solucionar esse problema vamos usar o solver do SciPy."
   ]
  },
  {
   "cell_type": "markdown",
   "metadata": {
    "id": "Hup3vgQnc-AL"
   },
   "source": [
    "Importanto as bibliotecas necessárias:"
   ]
  },
  {
   "cell_type": "code",
   "execution_count": 2,
   "metadata": {
    "id": "nGBOrIaxcg_X"
   },
   "outputs": [],
   "source": [
    "from scipy.optimize import linprog"
   ]
  },
  {
   "cell_type": "markdown",
   "metadata": {
    "id": "ksV7RDWqbVda"
   },
   "source": [
    "Primeiramente, vamos codar a nossa função objetivo e nossas restrições.\n",
    "\n",
    "Cada posição do nosso _array_ *x* de entrada é dado por:\n",
    "*    x[0] $\\rightarrow$ Estoque de pneus de Nylon em junho\n",
    "*    x[1] $\\rightarrow$ Estoque de pneus de Nylon em julho\n",
    "*    x[2] $\\rightarrow$ Estoque de pneus de Fibra em junho\n",
    "*    x[3] $\\rightarrow$ Estoque de pneus de Fibra em julho\n",
    "*    x[4] $\\rightarrow$ Quantidade de pneus de Nylon da prensa Wheel em junho\n",
    "*    x[5] $\\rightarrow$ Quantidade de pneus de Nylon da prensa Wheel em julho\n",
    "*    x[6] $\\rightarrow$ Quantidade de pneus de Nylon da prensa Wheel em agosto\n",
    "*    x[7] $\\rightarrow$ Quantidade de pneus de Fibra da prensa Wheel em junho\n",
    "*    x[8] $\\rightarrow$ Quantidade de pneus de Fibra da prensa Wheel em julho\n",
    "*    x[9] $\\rightarrow$ Quantidade de pneus de Fibra da prensa Wheel em agosto\n",
    "*    x[10] $\\rightarrow$ Quantidade de pneus de Nylon da prensa Legal em junho\n",
    "*    x[11] $\\rightarrow$ Quantidade de pneus de Nylon da prensa Legal em julho\n",
    "*    x[12] $\\rightarrow$ Quantidade de pneus de Nylon da prensa Legal em agosto\n",
    "*    x[13] $\\rightarrow$ Quantidade de pneus de Fibra da prensa Legal em junho\n",
    "*    x[14] $\\rightarrow$ Quantidade de pneus de Fibra da prensa Legal em julho\n",
    "*    x[15] $\\rightarrow$ Quantidade de pneus de Fibra da prensa Legal em agosto\n"
   ]
  },
  {
   "cell_type": "markdown",
   "metadata": {
    "id": "62RcJbMx6RRm"
   },
   "source": [
    "Vamos então fazer o código para solucionar nosso problema:"
   ]
  },
  {
   "cell_type": "code",
   "execution_count": 3,
   "metadata": {
    "id": "4QNrqTwFaodQ"
   },
   "outputs": [],
   "source": [
    "#coeficientes da função objetivo não envolvem a demanda para o método simplex\n",
    "c = [0.10, 0.10, 0.10, 0.10, 0.75, 0.75, 0.75, 0.6, 0.6, 0.6, 0.8, 0.8, 0.8, 0.7, 0.7, 0.7]"
   ]
  },
  {
   "cell_type": "code",
   "execution_count": 4,
   "metadata": {
    "id": "Zl9QNyDvy5ho"
   },
   "outputs": [],
   "source": [
    "#matriz A de restrições\n",
    "A = [[1, 0, 0, 0, -1, 0, 0, 0, 0, 0, -1, 0, 0, 0, 0, 0],      #restrição 1 - junho só pra nylon\n",
    "     [-1, 1, 0, 0, 0, -1, 0, 0, 0, 0, 0, -1, 0, 0, 0, 0],     #restrição 1 - julho só pra nylon\n",
    "     [0, -1, 0, 0, 0, 0, -1, 0, 0, 0, 0, 0, -1, 0, 0, 0],     #restrição 1 - agosto só pra nylon\n",
    "     [0, 0, 1, 0, 0, 0, 0, -1, 0, 0, 0, 0, 0, -1, 0, 0],      #restrição 1 - junho só pra fibra\n",
    "     [0, 0, -1, 1, 0, 0, 0, 0, -1, 0, 0, 0, 0, 0, -1, 0],     #restrição 1 - julho só pra fibra\n",
    "     [0, 0, 0, -1, 0, 0, 0, 0, 0, -1, 0, 0, 0, 0, 0, -1],     #restrição 1 - agosto só pra fibra\n",
    "     [0, 0, 0, 0, 0.15, 0, 0, 0.12, 0, 0, 0, 0, 0, 0, 0, 0],  #restrição 2\n",
    "     [0, 0, 0, 0, 0, 0.15, 0, 0, 0.12, 0, 0, 0, 0, 0, 0, 0],  #restrição 2\n",
    "     [0, 0, 0, 0, 0, 0, 0.15, 0, 0, 0.12, 0, 0, 0, 0, 0, 0],  #restrição 2\n",
    "     [0, 0, 0, 0, 0, 0, 0, 0, 0, 0, 0.16, 0, 0, 0.14, 0, 0],  #restrição 3\n",
    "     [0, 0, 0, 0, 0, 0, 0, 0, 0, 0, 0, 0.16, 0, 0, 0.14, 0],  #restrição 3\n",
    "     [0, 0, 0, 0, 0, 0, 0, 0, 0, 0, 0, 0, 0.16, 0, 0, 0.14],  #restrição 3\n",
    "     [-1, 0, 0, 0, 0, 0, 0, 0, 0, 0, 0, 0, 0, 0, 0, 0],       #restrição 4 e 5\n",
    "     [0, -1, 0, 0, 0, 0, 0, 0, 0, 0, 0, 0, 0, 0, 0, 0],       #restrição 4 e 5\n",
    "     [0, 0, -1, 0, 0, 0, 0, 0, 0, 0, 0, 0, 0, 0, 0, 0],       #restrição 4 e 5\n",
    "     [0, 0, 0, -1, 0, 0, 0, 0, 0, 0, 0, 0, 0, 0, 0, 0],       #restrição 4 e 5\n",
    "     [0, 0, 0, 0, -1, 0, 0, 0, 0, 0, 0, 0, 0, 0, 0, 0],       #restrição 4 e 5\n",
    "     [0, 0, 0, 0, 0, -1, 0, 0, 0, 0, 0, 0, 0, 0, 0, 0],       #restrição 4 e 5\n",
    "     [0, 0, 0, 0, 0, 0, -1, 0, 0, 0, 0, 0, 0, 0, 0, 0],       #restrição 4 e 5\n",
    "     [0, 0, 0, 0, 0, 0, 0, -1, 0, 0, 0, 0, 0, 0, 0, 0],       #restrição 4 e 5\n",
    "     [0, 0, 0, 0, 0, 0, 0, 0, -1, 0, 0, 0, 0, 0, 0, 0],       #restrição 4 e 5\n",
    "     [0, 0, 0, 0, 0, 0, 0, 0, 0, -1, 0, 0, 0, 0, 0, 0],       #restrição 4 e 5\n",
    "     [0, 0, 0, 0, 0, 0, 0, 0, 0, 0, -1, 0, 0, 0, 0, 0],       #restrição 4 e 5\n",
    "     [0, 0, 0, 0, 0, 0, 0, 0, 0, 0, 0, -1, 0, 0, 0, 0],       #restrição 4 e 5\n",
    "     [0, 0, 0, 0, 0, 0, 0, 0, 0, 0, 0, 0, -1, 0, 0, 0],       #restrição 4 e 5\n",
    "     [0, 0, 0, 0, 0, 0, 0, 0, 0, 0, 0, 0, 0, -1, 0, 0],       #restrição 4 e 5\n",
    "     [0, 0, 0, 0, 0, 0, 0, 0, 0, 0, 0, 0, 0, 0, -1, 0],       #restrição 4 e 5\n",
    "     [0, 0, 0, 0, 0, 0, 0, 0, 0, 0, 0, 0, 0, 0, 0, -1],]      #restrição 4 e 5\n"
   ]
  },
  {
   "cell_type": "code",
   "execution_count": 5,
   "metadata": {
    "id": "Vu-xF9X49MdG"
   },
   "outputs": [],
   "source": [
    "#lado direito das desigualdades\n",
    "b = [-4000, -8000, -3000, -1000, -5000, -5000, 700, 300, 1000, 1500, 400, 300, 0, 0, 0, 0, 0, 0, 0, 0, 0, 0, 0, 0, 0, 0, 0, 0]"
   ]
  },
  {
   "cell_type": "code",
   "execution_count": 6,
   "metadata": {
    "id": "OXmIrslF9iYM"
   },
   "outputs": [],
   "source": [
    "#agora vamos aplicar os limitantes para cada coeficiente\n",
    "x0 = (0, None)\n",
    "x1 = (0, None)\n",
    "x2 = (0, None)\n",
    "x3 = (0, None)\n",
    "x4 = (0, None)\n",
    "x5 = (0, None)\n",
    "x6 = (0, None)\n",
    "x7 = (0, None)\n",
    "x8 = (0, None)\n",
    "x9 = (0, None)\n",
    "x10 = (0, None)\n",
    "x11 = (0, None)\n",
    "x12 = (0, None)\n",
    "x13 = (0, None)\n",
    "x14 = (0, None)\n",
    "x15 = (0, None)"
   ]
  },
  {
   "cell_type": "code",
   "execution_count": 7,
   "metadata": {
    "colab": {
     "base_uri": "https://localhost:8080/"
    },
    "id": "zh8mCXatAYa9",
    "outputId": "78327eb4-8d5c-4e77-f356-a51976c54e8d"
   },
   "outputs": [
    {
     "name": "stdout",
     "output_type": "stream",
     "text": [
      "     con: array([], dtype=float64)\n",
      "     fun: 19173.33333323637\n",
      " message: 'Optimization terminated successfully.'\n",
      "     nit: 10\n",
      "   slack: array([-4.65179255e-08, -1.03107595e-07, -2.27032615e-08, -1.02181730e-09,\n",
      "       -5.64787115e-08, -4.16785042e-08,  2.75183538e-08,  8.26571522e-09,\n",
      "        5.20572030e-08,  2.78666667e+02,  1.68020051e-08,  2.46666667e+02,\n",
      "        5.50000000e+03,  7.23536372e-08,  2.50000000e+03,  5.78304343e-08,\n",
      "        1.86666667e+03,  1.74599631e-07,  2.66666667e+03,  3.50000000e+03,\n",
      "        2.50000000e+03,  5.00000000e+03,  7.63333333e+03,  2.50000000e+03,\n",
      "        3.33333333e+02,  2.65263366e-07,  3.56597850e-07,  1.73437867e-07])\n",
      "  status: 0\n",
      " success: True\n",
      "       x: array([5.50000000e+03, 7.23536372e-08, 2.50000000e+03, 5.78304343e-08,\n",
      "       1.86666667e+03, 1.74599631e-07, 2.66666667e+03, 3.50000000e+03,\n",
      "       2.50000000e+03, 5.00000000e+03, 7.63333333e+03, 2.50000000e+03,\n",
      "       3.33333333e+02, 2.65263366e-07, 3.56597850e-07, 1.73437867e-07])\n"
     ]
    }
   ],
   "source": [
    "res = linprog(c, A, b, bounds = (x0, x1, x2, x3, x4, x5, x6, x7, x8, x9, x10, x11, x12, x13, x14, x15))\n",
    "print(res)"
   ]
  },
  {
   "cell_type": "code",
   "execution_count": 8,
   "metadata": {
    "colab": {
     "base_uri": "https://localhost:8080/"
    },
    "id": "3liVfSFoDISW",
    "outputId": "1a9f322c-0e4f-477a-da28-6eece00fef7e"
   },
   "outputs": [
    {
     "name": "stdout",
     "output_type": "stream",
     "text": [
      "Estoques\n",
      "- Estoque de pneus de Nylon em junho: 5500\n",
      "- Estoque de pneus de Nylon em julho: 0\n",
      "- Estoque de pneus de Fibra em junho: 2499\n",
      "- Estoque de pneus de Fibra em julho: 0\n",
      "\n",
      "Quantidades de pneus de cada material em cada prensa por mês\n",
      "- Quantidade de pneus de Nylon da prensa Wheel em junho: 1866\n",
      "- Quantidade de pneus de Nylon da prensa Wheel em julho: 0\n",
      "- Quantidade de pneus de Nylon da prensa Wheel em agosto: 2666\n",
      "- Quantidade de pneus de Fibra da prensa Wheel em junho: 3499\n",
      "- Quantidade de pneus de Fibra da prensa Wheel em julho: 2499\n",
      "- Quantidade de pneus de Fibra da prensa Wheel em agosto: 4999\n",
      "- Quantidade de pneus de Nylon da prensa Legal em junho: 7633\n",
      "- Quantidade de pneus de Nylon da prensa Legal em julho: 2499\n",
      "- Quantidade de pneus de Nylon da prensa Legal em agosto: 333\n",
      "- Quantidade de pneus de Fibra da prensa Legal em junho: 0\n",
      "- Quantidade de pneus de Fibra da prensa Legal em julho: 0\n",
      "- Quantidade de pneus de Fibra da prensa Legal em agosto: 0\n",
      "\n",
      "Valor ótimo da nossa função objetivo: 19173.33333323637\n"
     ]
    }
   ],
   "source": [
    "print(\"Estoques\")\n",
    "print(\"- Estoque de pneus de Nylon em junho:\", int(res.x[0]))\n",
    "print(\"- Estoque de pneus de Nylon em julho:\", int(res.x[1]))\n",
    "print(\"- Estoque de pneus de Fibra em junho:\", int(res.x[2]))\n",
    "print(\"- Estoque de pneus de Fibra em julho:\", int(res.x[3]))\n",
    "\n",
    "print()\n",
    "print(\"Quantidades de pneus de cada material em cada prensa por mês\")\n",
    "print(\"- Quantidade de pneus de Nylon da prensa Wheel em junho:\", int(res.x[4]))\n",
    "print(\"- Quantidade de pneus de Nylon da prensa Wheel em julho:\", int(res.x[5]))\n",
    "print(\"- Quantidade de pneus de Nylon da prensa Wheel em agosto:\", int(res.x[6]))\n",
    "print(\"- Quantidade de pneus de Fibra da prensa Wheel em junho:\", int(res.x[7]))\n",
    "print(\"- Quantidade de pneus de Fibra da prensa Wheel em julho:\", int(res.x[8]))\n",
    "print(\"- Quantidade de pneus de Fibra da prensa Wheel em agosto:\", int(res.x[9]))\n",
    "\n",
    "print(\"- Quantidade de pneus de Nylon da prensa Legal em junho:\", int(res.x[10]))\n",
    "print(\"- Quantidade de pneus de Nylon da prensa Legal em julho:\", int(res.x[11]))\n",
    "print(\"- Quantidade de pneus de Nylon da prensa Legal em agosto:\", int(res.x[12]))\n",
    "print(\"- Quantidade de pneus de Fibra da prensa Legal em junho:\", int(res.x[13]))\n",
    "print(\"- Quantidade de pneus de Fibra da prensa Legal em julho:\", int(res.x[14]))\n",
    "print(\"- Quantidade de pneus de Fibra da prensa Legal em agosto:\", int(res.x[15]))\n",
    "\n",
    "print()\n",
    "print(\"Valor ótimo da nossa função objetivo:\", res.fun)"
   ]
  },
  {
   "cell_type": "markdown",
   "metadata": {
    "id": "0nSTIIB9MMF4"
   },
   "source": [
    "Vamos agora descobrir o Lucro final com base no que obtivemos:\n",
    "\n",
    "Ela será da seguinte forma:\n",
    "\n",
    "$Lucro = f(E, Q)_{ótima} = <c, res.x> + Restrições_{Demanda} - Receita$\n",
    "\n",
    "Onde:\n",
    "\n",
    "$Restrições_{Demanda}:$\n",
    "\n",
    "\n",
    "> $\\sum_{i=1}^{3} 3.10 D_{N,i} + \\sum_{i=1}^{3} 3.90 D_{F,i} + \\sum_{i=1}^{3} 0.23 (D_{N,i} + D_{F,i}) $\n",
    "\n",
    "> $\\Rightarrow 3.10 * 15000 + 3.90 * 11000 + 0.23 (26000) = 95380$\n",
    "\n",
    "$Receita:$\n",
    "\n",
    "> $\\sum_{i=1}^{3} 7.00 D_{N,i} + \\sum_{i=1}^{3} 9.00 D_{F,i}$\n",
    "\n",
    "> $\\Rightarrow 7.00*15000 + 9.00*11000 = 204000 $\n",
    "\n",
    "Então ficamos com:\n",
    "\n",
    "$Lucro = f(E, Q)_{ótima} = <c, res.x> 95380 - 204000$\n",
    "\n",
    "$\\Rightarrow Lucro = f(E, Q)_{ótima} = res.fun - 108620$\n",
    "\n"
   ]
  },
  {
   "cell_type": "code",
   "execution_count": 9,
   "metadata": {
    "colab": {
     "base_uri": "https://localhost:8080/"
    },
    "id": "UWZcPcuDNJZ9",
    "outputId": "a1cdca7c-a5fb-4c92-a8fb-a17d720f7812"
   },
   "outputs": [
    {
     "name": "stdout",
     "output_type": "stream",
     "text": [
      "89446.66666676363\n"
     ]
    }
   ],
   "source": [
    "#encontrando o valor ótimo de montate da nossa função objetivo\n",
    "f = res.fun - 108620\n",
    "print(-f) #colocamos o sinal de menos pois queremos maximizar uma função de minização"
   ]
  },
  {
   "cell_type": "markdown",
   "metadata": {
    "id": "b9szBNuEMnJX"
   },
   "source": [
    "# Perguntas da Atividade"
   ]
  },
  {
   "cell_type": "markdown",
   "metadata": {
    "id": "M5a50x1bMqFS"
   },
   "source": [
    "## Qual é produção mensal que atende a demanda exatamente, e com menor custo?"
   ]
  },
  {
   "cell_type": "markdown",
   "metadata": {
    "id": "kKoiqaB5M3hK"
   },
   "source": [
    "A produção mensal que atende exatamente a demanda e com menor custo é dada pelas quantidades de pneus de cada material em cada prensa por mês que obtivemos no código acima.\n",
    "\n",
    "Disso temos:"
   ]
  },
  {
   "cell_type": "code",
   "execution_count": 10,
   "metadata": {
    "colab": {
     "base_uri": "https://localhost:8080/"
    },
    "id": "hRorUE_0SpPu",
    "outputId": "32fdcee0-097e-40fe-f00d-14449af0bf2c"
   },
   "outputs": [
    {
     "name": "stdout",
     "output_type": "stream",
     "text": [
      "- Quantidade de pneus de Nylon da prensa Wheel em junho: 1866\n",
      "- Quantidade de pneus de Nylon da prensa Wheel em julho: 0\n",
      "- Quantidade de pneus de Nylon da prensa Wheel em agosto: 2666\n",
      "- Quantidade de pneus de Fibra da prensa Wheel em junho: 3499\n",
      "- Quantidade de pneus de Fibra da prensa Wheel em julho: 2499\n",
      "- Quantidade de pneus de Fibra da prensa Wheel em agosto: 4999\n",
      "- Quantidade de pneus de Nylon da prensa Legal em junho: 7633\n",
      "- Quantidade de pneus de Nylon da prensa Legal em julho: 2499\n",
      "- Quantidade de pneus de Nylon da prensa Legal em agosto: 333\n",
      "- Quantidade de pneus de Fibra da prensa Legal em junho: 0\n",
      "- Quantidade de pneus de Fibra da prensa Legal em julho: 0\n",
      "- Quantidade de pneus de Fibra da prensa Legal em agosto: 0\n"
     ]
    }
   ],
   "source": [
    "print(\"- Quantidade de pneus de Nylon da prensa Wheel em junho:\", int(res.x[4]))\n",
    "print(\"- Quantidade de pneus de Nylon da prensa Wheel em julho:\", int(res.x[5]))\n",
    "print(\"- Quantidade de pneus de Nylon da prensa Wheel em agosto:\", int(res.x[6]))\n",
    "print(\"- Quantidade de pneus de Fibra da prensa Wheel em junho:\", int(res.x[7]))\n",
    "print(\"- Quantidade de pneus de Fibra da prensa Wheel em julho:\", int(res.x[8]))\n",
    "print(\"- Quantidade de pneus de Fibra da prensa Wheel em agosto:\", int(res.x[9]))\n",
    "\n",
    "print(\"- Quantidade de pneus de Nylon da prensa Legal em junho:\", int(res.x[10]))\n",
    "print(\"- Quantidade de pneus de Nylon da prensa Legal em julho:\", int(res.x[11]))\n",
    "print(\"- Quantidade de pneus de Nylon da prensa Legal em agosto:\", int(res.x[12]))\n",
    "print(\"- Quantidade de pneus de Fibra da prensa Legal em junho:\", int(res.x[13]))\n",
    "print(\"- Quantidade de pneus de Fibra da prensa Legal em julho:\", int(res.x[14]))\n",
    "print(\"- Quantidade de pneus de Fibra da prensa Legal em agosto:\", int(res.x[15]))"
   ]
  },
  {
   "cell_type": "markdown",
   "metadata": {
    "id": "PRQ7nWlENSzo"
   },
   "source": [
    "## Qual a receita, o custo e o lucro para o período junho-julho-agosto?\n",
    "\n"
   ]
  },
  {
   "cell_type": "markdown",
   "metadata": {
    "id": "MBH1RxT-QcPg"
   },
   "source": [
    "A receita é dada conforme explicado acima:\n",
    "\n",
    "$Receita:$\n",
    "\n",
    "> $\\sum_{i=1}^{3} 7.00 D_{N,i} + \\sum_{i=1}^{3} 9.00 D_{F,i}$\n",
    "\n",
    "> $\\Rightarrow 7.00*15000 + 9.00*11000 $\n",
    "\n",
    "> $\\Rightarrow 204000 $"
   ]
  },
  {
   "cell_type": "markdown",
   "metadata": {
    "id": "hdXA8yjxQeQL"
   },
   "source": [
    "O custo para esse período é obtido através do pruduto interno $<c, res.x>$ que, pelo nosso código é dado por $res.fun$:"
   ]
  },
  {
   "cell_type": "code",
   "execution_count": 11,
   "metadata": {
    "colab": {
     "base_uri": "https://localhost:8080/"
    },
    "id": "ThqDr8UWUkD6",
    "outputId": "2df39a22-dc85-4279-b824-7d68728f4834"
   },
   "outputs": [
    {
     "name": "stdout",
     "output_type": "stream",
     "text": [
      "Custo: 19173.33\n"
     ]
    }
   ],
   "source": [
    "print(\"Custo: {:.2f}\".format(res.fun))"
   ]
  },
  {
   "cell_type": "markdown",
   "metadata": {
    "id": "XVbHk9mcQYha"
   },
   "source": [
    "O lucro obitido é dado pelo resultado da nossa função objetivo através do nosso código e das explicações acima. Devemos multiplicá-lo por -1 pois temos uma função de minimização de custos onde queremos maximizar o lucro:"
   ]
  },
  {
   "cell_type": "code",
   "execution_count": 12,
   "metadata": {
    "colab": {
     "base_uri": "https://localhost:8080/"
    },
    "id": "KlDZQPWUOstB",
    "outputId": "085c840b-80c8-42c3-e69d-e7f564faa09c"
   },
   "outputs": [
    {
     "name": "stdout",
     "output_type": "stream",
     "text": [
      "Lucro: 89446.67\n"
     ]
    }
   ],
   "source": [
    "print(\"Lucro: {:.2f}\".format(-f))"
   ]
  },
  {
   "cell_type": "markdown",
   "metadata": {
    "id": "Ns-sbfm_NW0T"
   },
   "source": [
    "## Quando seria apropriado fazer a manutenção preventiva das prensas?"
   ]
  },
  {
   "cell_type": "markdown",
   "metadata": {
    "id": "I6Rv0VtBXKXe"
   },
   "source": [
    "Vamos observar quantas horas por mês cada uma das prensas trabalha:\n",
    "\n",
    "Wheel:\n",
    "\n",
    "$ \\qquad \\sum_{i=1}^{3} 0.15 Q_{N,W,i} + \\sum_{i=1}^{3} 0.12 Q_{F,W,i} \\le \\sum_{i=1}^{3} H_{W,i}$\n",
    "\n",
    "\n",
    "> _Horas da Wheel em junho:_ $0.15 Q_{N,W,1} + 0.12 Q_{F,W,1}$\n",
    "\n",
    "> _Horas da Wheel em julho:_ $0.15 Q_{N,W,2} + 0.12 Q_{F,W,2}$\n",
    "\n",
    "> _Horas da Wheel em agosto:_ $0.15 Q_{N,W,3} + 0.12 Q_{F,W,3}$\n",
    "\n",
    "Legal:\n",
    "\n",
    "$ \\qquad \\sum_{i=1}^{3} 0.16 Q_{N,L,i} + \\sum_{i=1}^{3} 0.14 Q_{F,L,i} \\le \\sum_{i=1}^{3} H_{L,i}$\n",
    "\n",
    "> _Horas da Legal em junho:_ $0.16 Q_{N,L,1} + 0.14 Q_{F,L,1}$\n",
    "\n",
    "> _Horas da Legal em julho:_ $0.16 Q_{N,L,2} + 0.14 Q_{F,L,2}$\n",
    "\n",
    "> _Horas da Legal em agosto:_ $0.16 Q_{N,L,3} + 0.14 Q_{F,L,3}$\n",
    "\n",
    "Substituindo os valores de acordo com o nosso código temos:"
   ]
  },
  {
   "cell_type": "code",
   "execution_count": 18,
   "metadata": {
    "colab": {
     "base_uri": "https://localhost:8080/"
    },
    "id": "ryp7tsZAY-OT",
    "outputId": "60e6b4fa-c9fe-43ee-d389-7c6f9532681d"
   },
   "outputs": [
    {
     "name": "stdout",
     "output_type": "stream",
     "text": [
      "Horas da prensa Wheel em junho: 699\n",
      "Horas da prensa Wheel em julho: 299\n",
      "Horas da prensa Wheel em agosto: 999\n",
      "\n",
      "Horas da prensa Legal em junho: 1221\n",
      "Horas da prensa Legal em julho: 399\n",
      "Horas da prensa Legal em agosto: 53\n"
     ]
    }
   ],
   "source": [
    "print(\"Horas da prensa Wheel em junho:\", int(0.15*res.x[4] + 0.12*res.x[7]))\n",
    "print(\"Horas da prensa Wheel em julho:\", int(0.15*res.x[5] + 0.12*res.x[8]))\n",
    "print(\"Horas da prensa Wheel em agosto:\", int(0.15*res.x[6] + 0.12*res.x[9]))\n",
    "print()\n",
    "print(\"Horas da prensa Legal em junho:\", int(0.16*res.x[10] + 0.14*res.x[13]))\n",
    "print(\"Horas da prensa Legal em julho:\", int(0.16*res.x[11] + 0.14*res.x[14]))\n",
    "print(\"Horas da prensa Legal em agosto:\", int(0.16*res.x[12] + 0.14*res.x[15]))"
   ]
  },
  {
   "cell_type": "markdown",
   "metadata": {
    "id": "N9yA_5YR-tyF"
   },
   "source": [
    "Se observarmos a Tabela 2 que possui as horas de produção previstas para as prensas temos:\n",
    "\n",
    "      Mês   | Wheel |  Legal\n",
    "    --------|-------|--------\n",
    "     Junho  |  700  |  1500\n",
    "     Julho  |  300  |   400\n",
    "     Agosto | 1000  |   300\n",
    "\n",
    "Então vemos que para a prensa Wheel em todos os meses ela quase chegou em seu limite previsto em todos os três meses de análise. Por esse motivo, talvez seja melhor fazer uma manutenção preventiva nesta prensa no fim de todos os meses, pois ela trabalhou na margem do seu limite de horas.\n",
    "\n",
    "Já para a prensa Legal, se usarmos como base o critério de tempo de trabalho _versus_ tempo previsto da prensa Wheel, a manutenção preventiva deveria ocorrer no fim do mês de julho."
   ]
  },
  {
   "cell_type": "markdown",
   "metadata": {
    "id": "Psu0tUO3NaZu"
   },
   "source": [
    "## Uma nova prensa do tipo Wheel está para chegar em setembro. Contudo, é possível antecipar sua chegada para 2 de agosto desde que a Peneu pague $200 ao seu fornecedor. O número de horas de produção adicionais ganho com a chegada da nova prensa é 172. A Peneu deve antecipar a chegada da nova prensa?"
   ]
  },
  {
   "cell_type": "markdown",
   "metadata": {
    "id": "wPVTq4lgAgQV"
   },
   "source": [
    "Vamos adotar para esse problema que esta prensa nova do tipo Wheel trabalhará durante todo o mês de agosto, afim de simplificá-lo e abordá-lo através de meses e não através de dias de trabalho.\n",
    "\n",
    "Para resolver esse problema deveremos ver qual seria o ganho que a Peneu Industrial poderia ter ou não com a chegada dessa prensa.\n",
    "\n",
    "Para isso, vamos rodar novamente nosso código com algumas pequenas alterações:"
   ]
  },
  {
   "cell_type": "code",
   "execution_count": 21,
   "metadata": {
    "colab": {
     "base_uri": "https://localhost:8080/"
    },
    "id": "z8_mfYNRNHqa",
    "outputId": "e27aadda-a9db-45b9-9ebc-dff087404802"
   },
   "outputs": [
    {
     "name": "stdout",
     "output_type": "stream",
     "text": [
      "Estoques\n",
      "- Estoque de pneus de Nylon em junho: 5500\n",
      "- Estoque de pneus de Nylon em julho: 0\n",
      "- Estoque de pneus de Fibra em junho: 2499\n",
      "- Estoque de pneus de Fibra em julho: 0\n",
      "\n",
      "Quantidades de pneus de cada material em cada prensa por mês\n",
      "- Quantidade de pneus de Nylon da prensa Wheel em junho: 1866\n",
      "- Quantidade de pneus de Nylon da prensa Wheel em julho: 0\n",
      "- Quantidade de pneus de Nylon da prensa Wheel em agosto: 2999\n",
      "- Quantidade de pneus de Fibra da prensa Wheel em junho: 3499\n",
      "- Quantidade de pneus de Fibra da prensa Wheel em julho: 2499\n",
      "- Quantidade de pneus de Fibra da prensa Wheel em agosto: 4999\n",
      "- Quantidade de pneus de Nylon da prensa Legal em junho: 7633\n",
      "- Quantidade de pneus de Nylon da prensa Legal em julho: 2499\n",
      "- Quantidade de pneus de Nylon da prensa Legal em agosto: 0\n",
      "- Quantidade de pneus de Fibra da prensa Legal em junho: 0\n",
      "- Quantidade de pneus de Fibra da prensa Legal em julho: 0\n",
      "- Quantidade de pneus de Fibra da prensa Legal em agosto: 0\n",
      "\n",
      "Valor ótimo da nossa função objetivo: 19156.66666605118\n",
      "Lucro: 89663.33333394882\n"
     ]
    }
   ],
   "source": [
    "from scipy.optimize import linprog\n",
    "\n",
    "'''\n",
    "    x[0] → Estoque de pneus de Nylon em junho\n",
    "    x[1] → Estoque de pneus de Nylon em julho\n",
    "    x[2] → Estoque de pneus de Fibra em junho\n",
    "    x[3] → Estoque de pneus de Fibra em julho\n",
    "    x[4] → Quantidade de pneus de Nylon da prensa Wheel em junho\n",
    "    x[5] → Quantidade de pneus de Nylon da prensa Wheel em julho\n",
    "    x[6] → Quantidade de pneus de Nylon da prensa Wheel em agosto\n",
    "    x[7] → Quantidade de pneus de Fibra da prensa Wheel em junho\n",
    "    x[8] → Quantidade de pneus de Fibra da prensa Wheel em julho\n",
    "    x[9] → Quantidade de pneus de Fibra da prensa Wheel em agosto\n",
    "    x[10] → Quantidade de pneus de Nylon da prensa Legal em junho\n",
    "    x[11] → Quantidade de pneus de Nylon da prensa Legal em julho\n",
    "    x[12] → Quantidade de pneus de Nylon da prensa Legal em agosto\n",
    "    x[13] → Quantidade de pneus de Fibra da prensa Legal em junho\n",
    "    x[14] → Quantidade de pneus de Fibra da prensa Legal em julho\n",
    "    x[15] → Quantidade de pneus de Fibra da prensa Legal em agosto\n",
    "'''\n",
    "\n",
    "#coeficientes da função objetivo não envolvem a demanda para o método simplex\n",
    "c = [0.10, 0.10, 0.10, 0.10, 0.75, 0.75, 0.75, 0.6, 0.6, 0.6, 0.8, 0.8, 0.8, 0.7, 0.7, 0.7]\n",
    "\n",
    "#matriz A de restrições\n",
    "A = [[1, 0, 0, 0, -1, 0, 0, 0, 0, 0, -1, 0, 0, 0, 0, 0],      #restrição 1 - junho só pra nylon\n",
    "     [-1, 1, 0, 0, 0, -1, 0, 0, 0, 0, 0, -1, 0, 0, 0, 0],     #restrição 1 - julho só pra nylon\n",
    "     [0, -1, 0, 0, 0, 0, -1, 0, 0, 0, 0, 0, -1, 0, 0, 0],     #restrição 1 - agosto só pra nylon\n",
    "     [0, 0, 1, 0, 0, 0, 0, -1, 0, 0, 0, 0, 0, -1, 0, 0],      #restrição 1 - junho só pra fibra\n",
    "     [0, 0, -1, 1, 0, 0, 0, 0, -1, 0, 0, 0, 0, 0, -1, 0],     #restrição 1 - julho só pra fibra\n",
    "     [0, 0, 0, -1, 0, 0, 0, 0, 0, -1, 0, 0, 0, 0, 0, -1],     #restrição 1 - agosto só pra fibra\n",
    "     [0, 0, 0, 0, 0.15, 0, 0, 0.12, 0, 0, 0, 0, 0, 0, 0, 0],  #restrição 2\n",
    "     [0, 0, 0, 0, 0, 0.15, 0, 0, 0.12, 0, 0, 0, 0, 0, 0, 0],  #restrição 2\n",
    "     [0, 0, 0, 0, 0, 0, 0.15, 0, 0, 0.12, 0, 0, 0, 0, 0, 0],  #restrição 2\n",
    "     [0, 0, 0, 0, 0, 0, 0, 0, 0, 0, 0.16, 0, 0, 0.14, 0, 0],  #restrição 3\n",
    "     [0, 0, 0, 0, 0, 0, 0, 0, 0, 0, 0, 0.16, 0, 0, 0.14, 0],  #restrição 3\n",
    "     [0, 0, 0, 0, 0, 0, 0, 0, 0, 0, 0, 0, 0.16, 0, 0, 0.14],  #restrição 3\n",
    "     [-1, 0, 0, 0, 0, 0, 0, 0, 0, 0, 0, 0, 0, 0, 0, 0],       #restrição 4 e 5\n",
    "     [0, -1, 0, 0, 0, 0, 0, 0, 0, 0, 0, 0, 0, 0, 0, 0],       #restrição 4 e 5\n",
    "     [0, 0, -1, 0, 0, 0, 0, 0, 0, 0, 0, 0, 0, 0, 0, 0],       #restrição 4 e 5\n",
    "     [0, 0, 0, -1, 0, 0, 0, 0, 0, 0, 0, 0, 0, 0, 0, 0],       #restrição 4 e 5\n",
    "     [0, 0, 0, 0, -1, 0, 0, 0, 0, 0, 0, 0, 0, 0, 0, 0],       #restrição 4 e 5\n",
    "     [0, 0, 0, 0, 0, -1, 0, 0, 0, 0, 0, 0, 0, 0, 0, 0],       #restrição 4 e 5\n",
    "     [0, 0, 0, 0, 0, 0, -1, 0, 0, 0, 0, 0, 0, 0, 0, 0],       #restrição 4 e 5\n",
    "     [0, 0, 0, 0, 0, 0, 0, -1, 0, 0, 0, 0, 0, 0, 0, 0],       #restrição 4 e 5\n",
    "     [0, 0, 0, 0, 0, 0, 0, 0, -1, 0, 0, 0, 0, 0, 0, 0],       #restrição 4 e 5\n",
    "     [0, 0, 0, 0, 0, 0, 0, 0, 0, -1, 0, 0, 0, 0, 0, 0],       #restrição 4 e 5\n",
    "     [0, 0, 0, 0, 0, 0, 0, 0, 0, 0, -1, 0, 0, 0, 0, 0],       #restrição 4 e 5\n",
    "     [0, 0, 0, 0, 0, 0, 0, 0, 0, 0, 0, -1, 0, 0, 0, 0],       #restrição 4 e 5\n",
    "     [0, 0, 0, 0, 0, 0, 0, 0, 0, 0, 0, 0, -1, 0, 0, 0],       #restrição 4 e 5\n",
    "     [0, 0, 0, 0, 0, 0, 0, 0, 0, 0, 0, 0, 0, -1, 0, 0],       #restrição 4 e 5\n",
    "     [0, 0, 0, 0, 0, 0, 0, 0, 0, 0, 0, 0, 0, 0, -1, 0],       #restrição 4 e 5\n",
    "     [0, 0, 0, 0, 0, 0, 0, 0, 0, 0, 0, 0, 0, 0, 0, -1],]      #restrição 4 e 5\n",
    "\n",
    "#lado direito das desigualdades, com seu valor em b[3] alterado para a nova aquisição da máquina Wheel\n",
    "b = [-4000, -8000, -3000, -1000, -5000, -5000, 700, 300, 1172, 1500, 400, 300, 0, 0, 0, 0, 0, 0, 0, 0, 0, 0, 0, 0, 0, 0, 0, 0]\n",
    "\n",
    "#agora vamos aplicar os limitantes para cada coeficiente\n",
    "x0 = (0, None)\n",
    "x1 = (0, None)\n",
    "x2 = (0, None)\n",
    "x3 = (0, None)\n",
    "x4 = (0, None)\n",
    "x5 = (0, None)\n",
    "x6 = (0, None)\n",
    "x7 = (0, None)\n",
    "x8 = (0, None)\n",
    "x9 = (0, None)\n",
    "x10 = (0, None)\n",
    "x11 = (0, None)\n",
    "x12 = (0, None)\n",
    "x13 = (0, None)\n",
    "x14 = (0, None)\n",
    "x15 = (0, None)\n",
    "\n",
    "res = linprog(c, A, b, bounds = (x0, x1, x2, x3, x4, x5, x6, x7, x8, x9, x10, x11, x12, x13, x14, x15))\n",
    "\n",
    "print(\"Estoques\")\n",
    "print(\"- Estoque de pneus de Nylon em junho:\", int(res.x[0]))\n",
    "print(\"- Estoque de pneus de Nylon em julho:\", int(res.x[1]))\n",
    "print(\"- Estoque de pneus de Fibra em junho:\", int(res.x[2]))\n",
    "print(\"- Estoque de pneus de Fibra em julho:\", int(res.x[3]))\n",
    "\n",
    "print()\n",
    "print(\"Quantidades de pneus de cada material em cada prensa por mês\")\n",
    "print(\"- Quantidade de pneus de Nylon da prensa Wheel em junho:\", int(res.x[4]))\n",
    "print(\"- Quantidade de pneus de Nylon da prensa Wheel em julho:\", int(res.x[5]))\n",
    "print(\"- Quantidade de pneus de Nylon da prensa Wheel em agosto:\", int(res.x[6]))\n",
    "print(\"- Quantidade de pneus de Fibra da prensa Wheel em junho:\", int(res.x[7]))\n",
    "print(\"- Quantidade de pneus de Fibra da prensa Wheel em julho:\", int(res.x[8]))\n",
    "print(\"- Quantidade de pneus de Fibra da prensa Wheel em agosto:\", int(res.x[9]))\n",
    "\n",
    "print(\"- Quantidade de pneus de Nylon da prensa Legal em junho:\", int(res.x[10]))\n",
    "print(\"- Quantidade de pneus de Nylon da prensa Legal em julho:\", int(res.x[11]))\n",
    "print(\"- Quantidade de pneus de Nylon da prensa Legal em agosto:\", int(res.x[12]))\n",
    "print(\"- Quantidade de pneus de Fibra da prensa Legal em junho:\", int(res.x[13]))\n",
    "print(\"- Quantidade de pneus de Fibra da prensa Legal em julho:\", int(res.x[14]))\n",
    "print(\"- Quantidade de pneus de Fibra da prensa Legal em agosto:\", int(res.x[15]))\n",
    "\n",
    "print()\n",
    "print(\"Valor ótimo da nossa função objetivo:\", res.fun)\n",
    "\n",
    "#montante:\n",
    "#encontrando o valor ótimo de montate da nossa função objetivo, devemos subtrair 200 da máquina nova\n",
    "f = res.fun - 108620 - 200\n",
    "print(\"Lucro:\", -f) #colocamos o sinal de menos pois queremos maximizar uma função de minização"
   ]
  },
  {
   "cell_type": "markdown",
   "metadata": {
    "id": "QT5C2mdaCDkg"
   },
   "source": [
    "Disso observamos que nosso lucro aumentou:\n",
    "\n",
    "$Lucro\\  antes = 89446.66$\n",
    "\n",
    "$Lucro\\  depois = 89663.33$\n",
    "\n",
    "Então:\n",
    "\n",
    "$Aumento\\  no\\  lucro\\  de: 216.67$"
   ]
  },
  {
   "cell_type": "markdown",
   "metadata": {
    "id": "FDG6Ogt8C6UT"
   },
   "source": [
    "Assim concluímos que a Peneu Industrial deve antecipar a chegada da nova prensa, pois obterá um lucro superior ao anterior."
   ]
  },
  {
   "cell_type": "code",
   "execution_count": 20,
   "metadata": {
    "id": "j_DHyTf3BvK4"
   },
   "outputs": [],
   "source": []
  }
 ],
 "metadata": {
  "colab": {
   "collapsed_sections": [],
   "name": "T2 - Scipy.ipynb",
   "provenance": []
  },
  "kernelspec": {
   "display_name": "Python 3",
   "language": "python",
   "name": "python3"
  },
  "language_info": {
   "codemirror_mode": {
    "name": "ipython",
    "version": 3
   },
   "file_extension": ".py",
   "mimetype": "text/x-python",
   "name": "python",
   "nbconvert_exporter": "python",
   "pygments_lexer": "ipython3",
   "version": "3.6.9"
  }
 },
 "nbformat": 4,
 "nbformat_minor": 1
}
