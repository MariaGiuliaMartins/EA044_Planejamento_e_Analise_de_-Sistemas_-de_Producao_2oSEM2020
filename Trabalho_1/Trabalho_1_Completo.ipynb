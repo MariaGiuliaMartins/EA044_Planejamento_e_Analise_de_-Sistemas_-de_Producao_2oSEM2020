{
  "nbformat": 4,
  "nbformat_minor": 0,
  "metadata": {
    "colab": {
      "name": "Maria_Giulia_Martins_202819.ipynb",
      "provenance": [],
      "collapsed_sections": []
    },
    "kernelspec": {
      "name": "python3",
      "display_name": "Python 3"
    }
  },
  "cells": [
    {
      "cell_type": "markdown",
      "metadata": {
        "id": "WLaxIfEDG70m"
      },
      "source": [
        "# Trabalho T1 EA044 - Formulação de Modelos de Otimização\n",
        "Aluno(a): Maria Giulia Martins\n",
        "\n",
        "Curso: 34 - Engenharia de Computação"
      ]
    },
    {
      "cell_type": "markdown",
      "metadata": {
        "id": "8wCI8sH-rTqs"
      },
      "source": [
        "# Análise do Problema\n",
        "Antes de respondermos às perguntas solicitadas, vamos modelar o nosso problema, analisando-o conforme as Etapas da Modelagem a seguir:"
      ]
    },
    {
      "cell_type": "markdown",
      "metadata": {
        "id": "dX9oWPcYsELc"
      },
      "source": [
        "# Etapas da Modelagem"
      ]
    },
    {
      "cell_type": "markdown",
      "metadata": {
        "id": "oZQKCHxIsSD1"
      },
      "source": [
        "## Formular o Problema\n",
        "Nosso problema consiste em encontrar uma expressão para o lucro da empresa em questão e maximizá-lo."
      ]
    },
    {
      "cell_type": "markdown",
      "metadata": {
        "id": "9awl7MPzse8V"
      },
      "source": [
        "## Observar o Sistema\n",
        "Neste problema, são apresentadas duas equações que o modelam, são elas:\n",
        "\n",
        "Equação que relaciona o preço _p_ com a quantidade _q_ de cremes:\n",
        "$$p = 10 - 0.01q$$\n",
        "\n",
        "Equação que relaciona o custo _c_ por quantidade _q_ de cremes produzidos:\n",
        "$$c = 500 + 5q$$"
      ]
    },
    {
      "cell_type": "markdown",
      "metadata": {
        "id": "HNUu6UAasmWz"
      },
      "source": [
        "## Formular o Modelo Matemático\n",
        "### Análise das Equações\n",
        "Sabemos que o custo _c_ e o preço _p_ são ambos da grandeza \"dinheiro\", então:\n",
        "$$ R$ = 500 + 5*q$$\n",
        "$$ R$ = 10 - 0.01*q$$\n",
        "\n",
        "### Definição do Lucro\n",
        "O lucro no nosso problema é dado pela equação:\n",
        "$$ lucro = l(receita, custo) = l(r, c) = r - c$$\n",
        "Onde a Receita vamos definir abaixo e o nosso custo já foi dado no problema.\n",
        "#### Receita\n",
        "A Receita é definida como:\n",
        "$$ receita = preço * quantidade$$\n",
        "$$ \\Rightarrow r = p * q$$\n",
        "$$ \\Rightarrow r = (10 - 0.01*q) * q$$\n",
        "$$ \\Rightarrow r = 10*q - 0.01*q^2$$\n",
        "\n",
        "#### Lucro\n",
        "Com isso podemos definir a nossa expressão para o Lucro:\n",
        "$$ l(r,c) = r - c$$\n",
        "$$ \\Rightarrow l(r, c) = 10*q - 0.01*q^2 - (500 + 5*q)$$\n",
        "$$\\Rightarrow l(r, c) = -0.01q^2 - 5q - 500$$\n",
        "\n",
        "### Definição da Função Objetivo\n",
        "Como nosso objetivo final é a maxização do Lucro, então nossa Função Objetivo é dada pela expressão do lucro:\n",
        "$$ l(r, c) = -0.01q^2 - 5q - 500$$\n",
        "\n",
        "### Variáveis de Decisão\n",
        "As variáveis de decisão são aquelas que estão diretamente relacionadas com a nossa Função Objetivo e com o nosso problema, neste caso temos:\n",
        "1. preço _p_\n",
        "2. quantidade _q_"
      ]
    },
    {
      "cell_type": "markdown",
      "metadata": {
        "id": "Ou6cFkq3wEXJ"
      },
      "source": [
        "## Verificar / Validar o Problema\n",
        "### Restrições\n",
        "Para que o nosso problema coincida com o \"mundo real\", devemos aplicar restrições a ele. Neste caso, como procuramos o lucro máximo, precisamos, pelo menos, que a expressão matemática que caracteriza o preço seja maior que zero. Então:\n",
        "$$ p > 0 $$"
      ]
    },
    {
      "cell_type": "markdown",
      "metadata": {
        "id": "XZCR581vwpwZ"
      },
      "source": [
        "## Solucionar o Problema\n",
        "Para solucionar o problema, vamos utilizar do solver do Scipy.\n",
        "\n",
        "Mas antes, vamos plotar as equações das análises que fizemos acima."
      ]
    },
    {
      "cell_type": "markdown",
      "metadata": {
        "id": "7xdPSJYvxiq5"
      },
      "source": [
        "Biblitoecas que vamos utilizar:"
      ]
    },
    {
      "cell_type": "code",
      "metadata": {
        "id": "Ks6GzWWNgR1p"
      },
      "source": [
        "import matplotlib.pyplot as plt #biblioteca para plotarmos os gráficos\n",
        "import numpy as np #biblioteca para criarmos arrays eficientes"
      ],
      "execution_count": 1,
      "outputs": []
    },
    {
      "cell_type": "markdown",
      "metadata": {
        "id": "pzCMNRiAx4Jg"
      },
      "source": [
        "Atribuindo um conjunto de valores para _q_ e _p_ para termos uma regiao de potagem:"
      ]
    },
    {
      "cell_type": "code",
      "metadata": {
        "id": "JhSNG6aDrRbf"
      },
      "source": [
        "q = np.arange(-1000, 20000)\n",
        "p = np.arange(-1000, 20000)"
      ],
      "execution_count": 2,
      "outputs": []
    },
    {
      "cell_type": "code",
      "metadata": {
        "id": "7ceIceUgYF0n",
        "outputId": "3dc263ec-dc2b-4a2f-96cd-ab5baf77cd63",
        "colab": {
          "base_uri": "https://localhost:8080/",
          "height": 295
        }
      },
      "source": [
        "f_objetivo = -0.01*q*q - 5*q - 500 #funcao objetivo do nosso problema\n",
        "plt.plot(q, f_objetivo,  label = r\"$l(r, c) = -0.01q^2 - 5q -500$\")\n",
        "plt.legend()\n",
        "plt.title(\"Função Objetivo\")\n",
        "plt.xlabel(\"Quantidade q de Creme\")\n",
        "plt.ylabel(\"R$\")\n",
        "plt.xlim(-400, -100)\n",
        "plt.ylim(-100, 200)\n",
        "plt.grid()\n",
        "plt.show()"
      ],
      "execution_count": 3,
      "outputs": [
        {
          "output_type": "display_data",
          "data": {
            "image/png": "[encoded data removed]",
            "text/plain": [
              "<Figure size 432x288 with 1 Axes>"
            ]
          },
          "metadata": {
            "tags": [],
            "needs_background": "light"
          }
        }
      ]
    },
    {
      "cell_type": "markdown",
      "metadata": {
        "id": "eWN9npBmyago"
      },
      "source": [
        "### Foco do nosso Problema\n",
        "Nosso problema lida com o conceito de maximização de uma função. Em cálculo, isso significa que devemos derivar nossa Função Objetivo e igualá-la a zero para encontrar seus pontos de máximo (ou mínimo)>\n",
        "\n",
        "No nosso caso, acabamos de plotar acima o gráfico que descreve nossa Função Objetivo e vimos que ela é uma parábola situada no 2º e 3º quadrante, então sabemos que a nossa técnica de derivar vai apontar para seu máximo global.\n",
        "\n",
        "Dito isso temos:\n",
        "$$ l(r, c) = -0.01q^2 - 5q -500$$\n",
        "Então a derivada fica:\n",
        "$$ \\frac{d}{dq}l(r, c) = -0.02q + 120$$\n",
        "\n",
        "Vamos plotar a Função Objetivo juntamente com a sua derivada:"
      ]
    },
    {
      "cell_type": "code",
      "metadata": {
        "id": "dy2oP8B_aPnq",
        "outputId": "4cb8813e-82f9-4af5-ea61-861650653e36",
        "colab": {
          "base_uri": "https://localhost:8080/",
          "height": 295
        }
      },
      "source": [
        "f_objetivo = -0.01*q*q - 5*q - 500 #funcao objetivo\n",
        "f_objetivo_derivada = -0.02*q+120 #função objetivo derivada\n",
        "plt.plot(q, f_objetivo, color = \"r\", label = r\"$l(r, c) = -0.01q^2 - 5q -500$\")\n",
        "plt.plot(q, f_objetivo_derivada, color = \"b\", label = r\"$\\frac{d}{dq}l(r, c) = -0.02q + 120$\")\n",
        "plt.legend()\n",
        "plt.title(\"Função Objetivo e Função Objetivo Derivada\")\n",
        "plt.xlabel(\"Quantidade q de Creme\")\n",
        "plt.ylabel(\"R$\")\n",
        "plt.xlim(-400, -100)\n",
        "plt.ylim(-100, 200)\n",
        "plt.grid()\n",
        "plt.show()"
      ],
      "execution_count": 4,
      "outputs": [
        {
          "output_type": "display_data",
          "data": {
            "image/png": "[encoded data removed]",
            "text/plain": [
              "<Figure size 432x288 with 1 Axes>"
            ]
          },
          "metadata": {
            "tags": [],
            "needs_background": "light"
          }
        }
      ]
    },
    {
      "cell_type": "markdown",
      "metadata": {
        "id": "KF0dXSiogcqj"
      },
      "source": [
        "### Foco nas Restrições\n",
        "Vamos agregar ao gráfico nossas restrições:"
      ]
    },
    {
      "cell_type": "code",
      "metadata": {
        "id": "PzcGkgRF0fda",
        "outputId": "3fee54e7-3bc4-4a41-8245-ac453cab1b7a",
        "colab": {
          "base_uri": "https://localhost:8080/",
          "height": 283
        }
      },
      "source": [
        "#Nesta parte vamos criar a restrição do preço > 0:\n",
        "d = np.linspace(-1000,20000, 3000)\n",
        "x,y = np.meshgrid(d,d)\n",
        "plt.imshow((((y >= 0))).astype(int), extent=(x.min(),x.max(),y.min(),y.max()),origin=\"lower\", cmap=\"BuGn\", alpha = 0.3);\n",
        "\n",
        "#Agora vamos apresentar novamente nossas equações\n",
        "f_objetivo = -0.01*q*q - 5*q - 500 #funcao objetivo\n",
        "f_objetivo_derivada = -0.02*q+120 #função objetivo derivada\n",
        "restricao1 = np.zeros(21000) #p > 0\n",
        "\n",
        "##plotagem\n",
        "plt.plot(q, f_objetivo_derivada, color = \"b\", label = r\"$\\frac{d}{dq}l(r, c) = -0.02q +120$\")\n",
        "plt.plot(q, f_objetivo, color = \"r\", label = r\"l(r, c) = -0.01q² - 5q - 500$\")\n",
        "plt.plot(q, restricao1, color = \"g\", label = r\"$p > 0$\")\n",
        "plt.xlabel(\"Quantidade q de Cremes\")\n",
        "plt.ylabel(\"R$\")\n",
        "plt.legend(bbox_to_anchor=(1.05, 1), loc='upper left', borderaxespad=0.)\n",
        "plt.xlim(-400, 50)\n",
        "plt.ylim(-100, 200)\n",
        "plt.grid()\n",
        "plt.show()"
      ],
      "execution_count": 5,
      "outputs": [
        {
          "output_type": "display_data",
          "data": {
            "image/png": "[encoded data removed]",
            "text/plain": [
              "<Figure size 432x288 with 1 Axes>"
            ]
          },
          "metadata": {
            "tags": [],
            "needs_background": "light"
          }
        }
      ]
    },
    {
      "cell_type": "markdown",
      "metadata": {
        "id": "yMmsnPEw0wWv"
      },
      "source": [
        "Podemos ver que a região da nossa restrição é limitada pela reta verde _p > 0_ e que temos uma parte da nossa equação de lucro _l(r, c)_ que está nessa região, então nosso problema possui uma solução factível.\n",
        "\n",
        "Assim, podemos partir para a solução do problema utilizando um solver do Scipy como solicitado."
      ]
    },
    {
      "cell_type": "markdown",
      "metadata": {
        "id": "PQkKH_dirWTt"
      },
      "source": [
        "# 5. Resolver o modelo usando um solver e.g. o do Scipy"
      ]
    },
    {
      "cell_type": "markdown",
      "metadata": {
        "id": "6Xp2X5Zq8KOw"
      },
      "source": [
        "Antes de resolver este problema propriamente dito, vamos criar funções que generalizem nosso problema para que, desta forma, possamos resolver este tipo de problema, mas com funções diferentes.\n",
        "\n",
        "Uma observação é válida: a nossa restrição de _p > 0_ sempre se manterá, pois o nosso objetivo é o lucro e, portanto, não podemos ter um preço negativo\n",
        "\n",
        "Função que determina o preço:"
      ]
    },
    {
      "cell_type": "code",
      "metadata": {
        "id": "3HcRlWaZ_L3r"
      },
      "source": [
        "def preco(q):\n",
        "  '''\n",
        "  Função preco\n",
        "  Input: array q que representa os coeficientes da nossa expressão que será maximizada\n",
        "  Output: função de preço\n",
        "  '''\n",
        "  return 10 - 0.01*q[0]"
      ],
      "execution_count": 6,
      "outputs": []
    },
    {
      "cell_type": "markdown",
      "metadata": {
        "id": "5af6CwG7_Pxd"
      },
      "source": [
        "Função que determina o custo:"
      ]
    },
    {
      "cell_type": "code",
      "metadata": {
        "id": "PLI-awOs_gM3"
      },
      "source": [
        "def custo(q):\n",
        "  '''\n",
        "  Função custo\n",
        "  Input: array q que representa os coeficientes da nossa expressão que será maximizada\n",
        "  Output: função de custo\n",
        "  '''\n",
        "  return 500 + 5*q[0]"
      ],
      "execution_count": 7,
      "outputs": []
    },
    {
      "cell_type": "markdown",
      "metadata": {
        "id": "_nk-ygUW_jq1"
      },
      "source": [
        "Função que determina a receita:"
      ]
    },
    {
      "cell_type": "code",
      "metadata": {
        "id": "DZY4FdVv_oWm"
      },
      "source": [
        "def receita(q):\n",
        "  '''\n",
        "  Função receita\n",
        "  Input: array q que representa os coeficientes da nossa expressão que será maximizada\n",
        "  Output: função de receita\n",
        "  '''\n",
        "  return preco(q) * q[0]"
      ],
      "execution_count": 8,
      "outputs": []
    },
    {
      "cell_type": "markdown",
      "metadata": {
        "id": "BR3tS7RCAAJU"
      },
      "source": [
        "Agora vamos implementar nossa função Lucro:"
      ]
    },
    {
      "cell_type": "code",
      "metadata": {
        "id": "hUFPgDbvAIdp"
      },
      "source": [
        "def lucro(q):\n",
        "  '''\n",
        "    Função lucro\n",
        "    Input: array q que representa os coeficientes da nossa expressão que será maximizada\n",
        "    Output: -[l(r, c)] Retorna a nossa função de lucro multiplicada por -1, pois queremos \n",
        "  maximizá-la e sabemos que max(l(r, c)) = - min(l(r, c))\n",
        "  '''\n",
        "  return - (receita(q) - custo(q))"
      ],
      "execution_count": 9,
      "outputs": []
    },
    {
      "cell_type": "markdown",
      "metadata": {
        "id": "3yKZbW8DCsEH"
      },
      "source": [
        "Agora vamos propriamente aplicar nosso modelo de solução no nosso problema:"
      ]
    },
    {
      "cell_type": "code",
      "metadata": {
        "id": "lI_HI8supdfE",
        "outputId": "ad372d45-11f7-4def-a248-789b683c4fe0",
        "colab": {
          "base_uri": "https://localhost:8080/",
          "height": 33
        }
      },
      "source": [
        "#importanto a biblioteca que usaremos\n",
        "import scipy.optimize as op\n",
        "from scipy.optimize import Bounds\n",
        "\n",
        "q0 = np.array([0]) #o q que estamos entrando vale 1\n",
        "limites = Bounds([0], [np.inf]) #nossos limitantes\n",
        "\n",
        "sol = op.minimize(lucro, q0, bounds = limites)\n",
        "\n",
        "for i in sol.x: resultado = i #salvando nosso resultado em uma forma bonita\n",
        "resultado"
      ],
      "execution_count": 10,
      "outputs": [
        {
          "output_type": "execute_result",
          "data": {
            "text/plain": [
              "249.99986128901156"
            ]
          },
          "metadata": {
            "tags": []
          },
          "execution_count": 10
        }
      ]
    },
    {
      "cell_type": "markdown",
      "metadata": {
        "id": "VC2zrx5aEiKz"
      },
      "source": [
        "Agora que temos o valor de _q_ no qual o lucro se maximiza, então vamos encontrar o valor correspondente ao lucro:"
      ]
    },
    {
      "cell_type": "code",
      "metadata": {
        "id": "koWd6Zr1vtc_",
        "outputId": "1d7bc233-78a8-4ab2-9fa7-42ffe25839f1",
        "colab": {
          "base_uri": "https://localhost:8080/",
          "height": 33
        }
      },
      "source": [
        "-lucro(sol.x) #uso do sinal negativo por conta da propriedade max(l(r, c)) = - min(l(r, c))"
      ],
      "execution_count": 11,
      "outputs": [
        {
          "output_type": "execute_result",
          "data": {
            "text/plain": [
              "124.99999999980764"
            ]
          },
          "metadata": {
            "tags": []
          },
          "execution_count": 11
        }
      ]
    },
    {
      "cell_type": "markdown",
      "metadata": {
        "id": "CfVOxaMYJsAZ"
      },
      "source": [
        "Vale ressaltar que queremos o nosso resultado o mais próximo do real, então uma aproximação dos valores é plausível:"
      ]
    },
    {
      "cell_type": "code",
      "metadata": {
        "id": "1EAZMwUqJ2a2",
        "outputId": "9285a852-8c08-4b7c-b143-be4c18c576ab",
        "colab": {
          "base_uri": "https://localhost:8080/",
          "height": 64
        }
      },
      "source": [
        "print(\"Quantidade de Creme a ser produzida:\", round(resultado, 2))\n",
        "print(\"Preço do Creme:\", round(preco(sol.x), 2))\n",
        "print(\"Lucro correspondente a essa produção:\", round(-lucro(sol.x), 2))"
      ],
      "execution_count": 12,
      "outputs": [
        {
          "output_type": "stream",
          "text": [
            "Quantidade de Creme a ser produzida: 250.0\n",
            "Preço do Creme: 7.5\n",
            "Lucro correspondente a essa produção: 125.0\n"
          ],
          "name": "stdout"
        }
      ]
    },
    {
      "cell_type": "markdown",
      "metadata": {
        "id": "lMR0CBqWFHiz"
      },
      "source": [
        "# Respostas das Perguntas\n",
        "Agora que modelamos nosso problema e fizemos a solução para as condições dadas no enunciado, vamos responder às perguntas do Projeto."
      ]
    },
    {
      "cell_type": "markdown",
      "metadata": {
        "id": "znLIeeRYFUcE"
      },
      "source": [
        "## 1. Quanto creme produzir e a que preço?\n",
        "A resposta dessa pergunta é exatamente o que acabamos de fazer quando utilizamos o solver do Scipy. Mas vamos escrever novamente para uma maior clareza ao leitor."
      ]
    },
    {
      "cell_type": "code",
      "metadata": {
        "id": "z7eg6QcdEuHP",
        "outputId": "a20aafe3-4c64-4727-f392-3d9dd5045428",
        "colab": {
          "base_uri": "https://localhost:8080/",
          "height": 64
        }
      },
      "source": [
        "#array de entrada\n",
        "q1 = np.array([0])\n",
        "\n",
        "#preço\n",
        "p1 = preco(q1)\n",
        "\n",
        "#custo\n",
        "c1 = custo(q1)\n",
        "\n",
        "#receita\n",
        "r1 = receita(q1)\n",
        "\n",
        "#lucro\n",
        "l1 = lucro(q1)\n",
        "\n",
        "#importanto a biblioteca que usaremos\n",
        "import scipy.optimize as op\n",
        "from scipy.optimize import Bounds\n",
        "\n",
        "limites = Bounds([0], [np.inf]) #nossos limitantes\n",
        "\n",
        "sol = op.minimize(lucro, q1, bounds = limites)\n",
        "for i in sol.x: resultado = i\n",
        "\n",
        "print(\"Quantidade de Creme a ser produzida:\", round(resultado, 2))\n",
        "print(\"Preço do Creme:\", round(preco(sol.x), 2))\n",
        "print(\"Lucro correspondente a essa produção:\", round(-lucro(sol.x), 2))\n"
      ],
      "execution_count": 13,
      "outputs": [
        {
          "output_type": "stream",
          "text": [
            "Quantidade de Creme a ser produzida: 250.0\n",
            "Preço do Creme: 7.5\n",
            "Lucro correspondente a essa produção: 125.0\n"
          ],
          "name": "stdout"
        }
      ]
    },
    {
      "cell_type": "markdown",
      "metadata": {
        "id": "NwfAMwOoLegL"
      },
      "source": [
        "### Resposta 1\n",
        "De acordo com o solver temos:\n",
        "\n",
        "Quantidade de Creme a ser produzida: 250.0\n",
        "\n",
        "Preço do Creme: 7.0\n",
        "\n",
        "Lucro correspondente a essa produção: 125.0\n"
      ]
    },
    {
      "cell_type": "markdown",
      "metadata": {
        "id": "a4V5ciAwKIuz"
      },
      "source": [
        "## 2. O que ocorre com a produção e o lucro se o custo fixo diminiuir para R$400?\n",
        "Para este caso, vamos modificar nossas funções para manter nosso padrão generalizado:"
      ]
    },
    {
      "cell_type": "code",
      "metadata": {
        "id": "mYJQzlRAG8Lq",
        "outputId": "7022c9c5-66a8-4310-de27-af612bec6308",
        "colab": {
          "base_uri": "https://localhost:8080/",
          "height": 64
        }
      },
      "source": [
        "def preco2(q):\n",
        "  '''\n",
        "  Função preco para a questão 2\n",
        "  Input: array q que representa os coeficientes da nossa expressão que será maximizada\n",
        "  Output: função de preço\n",
        "  '''\n",
        "  return 10 - 0.01*q[0]\n",
        "\n",
        "def custo2 (q):\n",
        "  '''\n",
        "  Função custo para a questão 2\n",
        "  Input: array q que representa os coeficientes da nossa expressão que será maximizada\n",
        "  Output: função de custo\n",
        "  '''\n",
        "  return 400 + 5*q[0]\n",
        "\n",
        "def receita2(q):\n",
        "  '''\n",
        "  Função receita para a questão 2\n",
        "  Input: array q que representa os coeficientes da nossa expressão que será maximizada\n",
        "  Output: função de receita\n",
        "  '''\n",
        "  return preco2(q) * q[0]\n",
        "\n",
        "def lucro2(q):\n",
        "  '''\n",
        "    Função lucro para a questão 2\n",
        "    Input: array q que representa os coeficientes da nossa expressão que será maximizada\n",
        "    Output: -[l(r, c)] Retorna a nossa função de lucro multiplicada por -1, pois queremos \n",
        "  maximizá-la e sabemos que max(l(r, c)) = - min(l(r, c))\n",
        "  '''\n",
        "  return - (receita2(q) - custo2(q))\n",
        "\n",
        "#array de entrada\n",
        "q2 = np.array([0])\n",
        "\n",
        "#preço\n",
        "p2 = preco2(q2)\n",
        "\n",
        "#custo\n",
        "c2 = custo2(q2)\n",
        "\n",
        "#receita\n",
        "r2 = receita2(q2)\n",
        "\n",
        "#lucro\n",
        "l2 = lucro2(q2)\n",
        "\n",
        "#importanto a biblioteca que usaremos\n",
        "import scipy.optimize as op\n",
        "from scipy.optimize import Bounds\n",
        "\n",
        "limites = Bounds([0], [np.inf]) #nossos limitantes\n",
        "\n",
        "sol2 = op.minimize(lucro2, q2, bounds = limites)\n",
        "for i in sol2.x: resultado2 = i\n",
        "\n",
        "print(\"Quantidade de Creme a ser produzida:\", round(resultado2, 2))\n",
        "print(\"Preço do Creme:\", round(preco2(sol2.x), 2))\n",
        "print(\"Lucro correspondente a essa produção:\", round(-lucro2(sol2.x), 2))"
      ],
      "execution_count": 14,
      "outputs": [
        {
          "output_type": "stream",
          "text": [
            "Quantidade de Creme a ser produzida: 250.0\n",
            "Preço do Creme: 7.5\n",
            "Lucro correspondente a essa produção: 225.0\n"
          ],
          "name": "stdout"
        }
      ]
    },
    {
      "cell_type": "markdown",
      "metadata": {
        "id": "ouNoCimOLTvk"
      },
      "source": [
        "## Resposta 2\n",
        "De acordo com nosso solver temos:\n",
        "\n",
        "Quantidade de Creme a ser produzida: 250.0\n",
        "\n",
        "Preço do Creme: 7.5\n",
        "\n",
        "Lucro correspondente a essa produção: 225.0\n",
        "\n",
        "**Conclusão:** alterar o lucro fixo para R$400 é um bom indicativo, pois podemos produzir a mesma quantidade de creme, pelo mesmo preço, mas com um custo menor, consequentemente, teremos um lucro maior."
      ]
    },
    {
      "cell_type": "markdown",
      "metadata": {
        "id": "WiUV3M3TMSZo"
      },
      "source": [
        "# 3. Qual o impacto na produção se o custo variável aumentar R$1 por unidade?\n",
        "Assim como na questão anterior, vamos modificar nossas funções novamente:"
      ]
    },
    {
      "cell_type": "code",
      "metadata": {
        "id": "xJGe6AeHLBaR",
        "outputId": "bd4a414b-11a1-406c-847d-e4fb4b19937b",
        "colab": {
          "base_uri": "https://localhost:8080/",
          "height": 64
        }
      },
      "source": [
        "def preco3(q):\n",
        "  '''\n",
        "  Função preco para a questão 3\n",
        "  Input: array q que representa os coeficientes da nossa expressão que será maximizada\n",
        "  Output: função de preço\n",
        "  '''\n",
        "  return 10 - 0.01*q[0]\n",
        "\n",
        "def custo3 (q):\n",
        "  '''\n",
        "  Função custo para a questão 3\n",
        "  Input: array q que representa os coeficientes da nossa expressão que será maximizada\n",
        "  Output: função de custo\n",
        "  '''\n",
        "  return 500 + 6*q[0]\n",
        "\n",
        "def receita3(q):\n",
        "  '''\n",
        "  Função receita para a questão 3\n",
        "  Input: array q que representa os coeficientes da nossa expressão que será maximizada\n",
        "  Output: função de receita\n",
        "  '''\n",
        "  return preco3(q) * q[0]\n",
        "\n",
        "def lucro3(q):\n",
        "  '''\n",
        "    Função lucro para a questão 3\n",
        "    Input: array q que representa os coeficientes da nossa expressão que será maximizada\n",
        "    Output: -[l(r, c)] Retorna a nossa função de lucro multiplicada por -1, pois queremos \n",
        "  maximizá-la e sabemos que max(l(r, c)) = - min(l(r, c))\n",
        "  '''\n",
        "  return - (receita3(q) - custo3(q))\n",
        "\n",
        "#array de entrada\n",
        "q3 = np.array([0])\n",
        "\n",
        "#preço\n",
        "p3 = preco3(q3)\n",
        "\n",
        "#custo\n",
        "c3 = custo3(q3)\n",
        "\n",
        "#receita\n",
        "r3 = receita3(q3)\n",
        "\n",
        "#lucro\n",
        "l3 = lucro3(q3)\n",
        "\n",
        "#importanto a biblioteca que usaremos\n",
        "import scipy.optimize as op\n",
        "from scipy.optimize import Bounds\n",
        "\n",
        "limites = Bounds([0], [np.inf]) #nossos limitantes\n",
        "\n",
        "sol3 = op.minimize(lucro3, q3, bounds = limites)\n",
        "for i in sol3.x: resultado3 = i\n",
        "\n",
        "print(\"Quantidade de Creme a ser produzida:\", round(resultado3, 2))\n",
        "print(\"Preço do Creme:\", round(preco3(sol3.x), 2))\n",
        "print(\"Lucro correspondente a essa produção:\", round(-lucro3(sol3.x), 2))"
      ],
      "execution_count": 15,
      "outputs": [
        {
          "output_type": "stream",
          "text": [
            "Quantidade de Creme a ser produzida: 200.0\n",
            "Preço do Creme: 8.0\n",
            "Lucro correspondente a essa produção: -100.0\n"
          ],
          "name": "stdout"
        }
      ]
    },
    {
      "cell_type": "markdown",
      "metadata": {
        "id": "V8TWDRL4M6dj"
      },
      "source": [
        "## Resposta 3\n",
        "De acordo com nosso solver temos:\n",
        "\n",
        "Quantidade de Creme a ser produzida: 200.0\n",
        "\n",
        "Preço do Creme: 8.0\n",
        "\n",
        "Lucro correspondente a essa produção: -100.0\n",
        "\n",
        "**Conclusão:** Essa é uma situação muito ruim, pois iriam ser produzidos menos cremes, por um preço maior que antes e haveria um prejuízo de R$100."
      ]
    },
    {
      "cell_type": "markdown",
      "metadata": {
        "id": "tH6TZCH6Oirx"
      },
      "source": [
        "# 4. Vale a pena diminuir o preço mais lentamente com a quantidade e.g. _p = 10 - 0.005q_ ?\n",
        "Modificnado as funções novamente:"
      ]
    },
    {
      "cell_type": "code",
      "metadata": {
        "id": "X-LIWBspM1Dy",
        "outputId": "6da0d4e7-47c6-4039-f1fe-0d1ae9f681bc",
        "colab": {
          "base_uri": "https://localhost:8080/",
          "height": 64
        }
      },
      "source": [
        "def preco4(q):\n",
        "  '''\n",
        "  Função preco para a questão 4\n",
        "  Input: array q que representa os coeficientes da nossa expressão que será maximizada\n",
        "  Output: função de preço\n",
        "  '''\n",
        "  return 10 - 0.005*q[0]\n",
        "\n",
        "def custo4 (q):\n",
        "  '''\n",
        "  Função custo para a questão 4\n",
        "  Input: array q que representa os coeficientes da nossa expressão que será maximizada\n",
        "  Output: função de custo\n",
        "  '''\n",
        "  return 500 + 5*q[0]\n",
        "\n",
        "def receita4(q):\n",
        "  '''\n",
        "  Função receita para a questão 4\n",
        "  Input: array q que representa os coeficientes da nossa expressão que será maximizada\n",
        "  Output: função de receita\n",
        "  '''\n",
        "  return preco4(q) * q[0]\n",
        "\n",
        "def lucro4(q):\n",
        "  '''\n",
        "    Função lucro para a questão 4\n",
        "    Input: array q que representa os coeficientes da nossa expressão que será maximizada\n",
        "    Output: -[l(r, c)] Retorna a nossa função de lucro multiplicada por -1, pois queremos \n",
        "  maximizá-la e sabemos que max(l(r, c)) = - min(l(r, c))\n",
        "  '''\n",
        "  return - (receita4(q) - custo4(q))\n",
        "\n",
        "#array de entrada\n",
        "q4 = np.array([0])\n",
        "\n",
        "#preço\n",
        "p4 = preco4(q4)\n",
        "\n",
        "#custo\n",
        "c4 = custo4(q4)\n",
        "\n",
        "#receita\n",
        "r4 = receita4(q4)\n",
        "\n",
        "#lucro\n",
        "l4 = lucro4(q4)\n",
        "\n",
        "#importanto a biblioteca que usaremos\n",
        "import scipy.optimize as op\n",
        "from scipy.optimize import Bounds\n",
        "\n",
        "limites = Bounds([0], [np.inf]) #nossos limitantes\n",
        "\n",
        "sol4 = op.minimize(lucro4, q4)\n",
        "for i in sol4.x: resultado4 = i\n",
        "\n",
        "\n",
        "print(\"Quantidade de Creme a ser produzida:\", round(resultado4, 2))\n",
        "print(\"Preço do Creme:\", round(preco4(sol4.x), 2))\n",
        "print(\"Lucro correspondente a essa produção:\", round(-lucro4(sol4.x), 2))"
      ],
      "execution_count": 16,
      "outputs": [
        {
          "output_type": "stream",
          "text": [
            "Quantidade de Creme a ser produzida: 500.0\n",
            "Preço do Creme: 7.5\n",
            "Lucro correspondente a essa produção: 750.0\n"
          ],
          "name": "stdout"
        }
      ]
    },
    {
      "cell_type": "markdown",
      "metadata": {
        "id": "kjq-wmDoPUSa"
      },
      "source": [
        "## Resposta 4\n",
        "Para este exemplo de preço apresentado, temos os seuintes resultados do nosso solver:\n",
        "\n",
        "Quantidade de Creme a ser produzida: 500.0\n",
        "\n",
        "Preço do Creme: 7.5\n",
        "\n",
        "Lucro correspondente a essa produção: 750.0\n",
        "\n",
        "**Conlusão:** Neste caso, diminiur apenas a função que determina o preço com a quantidade de creme produzida foi muito bom, pois, apesar de termos aumentado a produção de creme, o seu preço aumentou e o lucro também. Logo, foi uma medida que deu um efeito positivo no lucro."
      ]
    },
    {
      "cell_type": "code",
      "metadata": {
        "id": "blMLtJ8SXJCe"
      },
      "source": [
        ""
      ],
      "execution_count": 16,
      "outputs": []
    }
  ]
}
